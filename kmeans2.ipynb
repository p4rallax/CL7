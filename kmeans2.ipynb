{
 "cells": [
  {
   "cell_type": "code",
   "execution_count": 53,
   "metadata": {},
   "outputs": [],
   "source": [
    "import numpy as np\n",
    "import pandas as pd\n",
    "import matplotlib.pyplot as plt\n",
    "import seaborn as sns\n",
    "from sklearn.cluster import KMeans\n",
    "from scipy.spatial.distance import cdist\n",
    "from sklearn.preprocessing import StandardScaler, RobustScaler\n"
   ]
  },
  {
   "cell_type": "code",
   "execution_count": 54,
   "metadata": {},
   "outputs": [
    {
     "data": {
      "text/html": [
       "<div>\n",
       "<style scoped>\n",
       "    .dataframe tbody tr th:only-of-type {\n",
       "        vertical-align: middle;\n",
       "    }\n",
       "\n",
       "    .dataframe tbody tr th {\n",
       "        vertical-align: top;\n",
       "    }\n",
       "\n",
       "    .dataframe thead th {\n",
       "        text-align: right;\n",
       "    }\n",
       "</style>\n",
       "<table border=\"1\" class=\"dataframe\">\n",
       "  <thead>\n",
       "    <tr style=\"text-align: right;\">\n",
       "      <th></th>\n",
       "      <th>Channel</th>\n",
       "      <th>Region</th>\n",
       "      <th>Fresh</th>\n",
       "      <th>Milk</th>\n",
       "      <th>Grocery</th>\n",
       "      <th>Frozen</th>\n",
       "      <th>Detergents_Paper</th>\n",
       "      <th>Delicassen</th>\n",
       "    </tr>\n",
       "  </thead>\n",
       "  <tbody>\n",
       "    <tr>\n",
       "      <td>0</td>\n",
       "      <td>2</td>\n",
       "      <td>3</td>\n",
       "      <td>12669</td>\n",
       "      <td>9656</td>\n",
       "      <td>7561</td>\n",
       "      <td>214</td>\n",
       "      <td>2674</td>\n",
       "      <td>1338</td>\n",
       "    </tr>\n",
       "    <tr>\n",
       "      <td>1</td>\n",
       "      <td>2</td>\n",
       "      <td>3</td>\n",
       "      <td>7057</td>\n",
       "      <td>9810</td>\n",
       "      <td>9568</td>\n",
       "      <td>1762</td>\n",
       "      <td>3293</td>\n",
       "      <td>1776</td>\n",
       "    </tr>\n",
       "    <tr>\n",
       "      <td>2</td>\n",
       "      <td>2</td>\n",
       "      <td>3</td>\n",
       "      <td>6353</td>\n",
       "      <td>8808</td>\n",
       "      <td>7684</td>\n",
       "      <td>2405</td>\n",
       "      <td>3516</td>\n",
       "      <td>7844</td>\n",
       "    </tr>\n",
       "    <tr>\n",
       "      <td>3</td>\n",
       "      <td>1</td>\n",
       "      <td>3</td>\n",
       "      <td>13265</td>\n",
       "      <td>1196</td>\n",
       "      <td>4221</td>\n",
       "      <td>6404</td>\n",
       "      <td>507</td>\n",
       "      <td>1788</td>\n",
       "    </tr>\n",
       "    <tr>\n",
       "      <td>4</td>\n",
       "      <td>2</td>\n",
       "      <td>3</td>\n",
       "      <td>22615</td>\n",
       "      <td>5410</td>\n",
       "      <td>7198</td>\n",
       "      <td>3915</td>\n",
       "      <td>1777</td>\n",
       "      <td>5185</td>\n",
       "    </tr>\n",
       "  </tbody>\n",
       "</table>\n",
       "</div>"
      ],
      "text/plain": [
       "   Channel  Region  Fresh  Milk  Grocery  Frozen  Detergents_Paper  Delicassen\n",
       "0        2       3  12669  9656     7561     214              2674        1338\n",
       "1        2       3   7057  9810     9568    1762              3293        1776\n",
       "2        2       3   6353  8808     7684    2405              3516        7844\n",
       "3        1       3  13265  1196     4221    6404               507        1788\n",
       "4        2       3  22615  5410     7198    3915              1777        5185"
      ]
     },
     "execution_count": 54,
     "metadata": {},
     "output_type": "execute_result"
    }
   ],
   "source": [
    "data = pd.read_csv('C:/Users/Satwik/Downloads/wholesale_customer_data.csv')\n",
    "data.head()\n",
    "stdscaler = StandardScaler()\n",
    "#data['Milk'] = stdscaler.fit_transform(data['Milk'].values.reshape(-1,1))\n",
    "#data['Detergents_Paper'] = stdscaler.fit_transform(data['Detergents_Paper'].values.reshape(-1,1))\n",
    "\n",
    "data.head()"
   ]
  },
  {
   "cell_type": "code",
   "execution_count": 55,
   "metadata": {
    "scrolled": true
   },
   "outputs": [
    {
     "data": {
      "image/png": "[encoded data removed]",
      "text/plain": [
       "<Figure size 432x288 with 1 Axes>"
      ]
     },
     "metadata": {
      "needs_background": "light"
     },
     "output_type": "display_data"
    }
   ],
   "source": [
    "usedata = data[0:100]\n",
    "x1=usedata['Milk'].values\n",
    "x2=usedata['Detergents_Paper'].values\n",
    "plt.plot()\n",
    "plt.scatter(x1,x2)\n",
    "plt.show()"
   ]
  },
  {
   "cell_type": "code",
   "execution_count": 56,
   "metadata": {},
   "outputs": [],
   "source": [
    "X = np.array(list(zip(x1,x2))).reshape(len(x1),2)"
   ]
  },
  {
   "cell_type": "code",
   "execution_count": 57,
   "metadata": {},
   "outputs": [],
   "source": [
    "distortion = []\n",
    "inertia = []\n",
    "mapping1 = {}\n",
    "mapping2 = {}\n"
   ]
  },
  {
   "cell_type": "code",
   "execution_count": 58,
   "metadata": {},
   "outputs": [],
   "source": [
    "K  =range(1,10)\n",
    "for k in K:\n",
    "    model = KMeans(n_clusters = k).fit(X)\n",
    "    model.fit(X)\n",
    "    distortion.append(sum(np.min(cdist(X , model.cluster_centers_ , 'euclidean'), axis =1)) / X.shape[0])\n",
    "    inertia.append(model.inertia_)\n",
    "    mapping1[k] = distortions\n",
    "    mapping2[k] = inertias\n",
    "\n"
   ]
  },
  {
   "cell_type": "code",
   "execution_count": 59,
   "metadata": {},
   "outputs": [
    {
     "data": {
      "text/plain": [
       "[<matplotlib.lines.Line2D at 0x21c0263d108>]"
      ]
     },
     "execution_count": 59,
     "metadata": {},
     "output_type": "execute_result"
    },
    {
     "data": {
      "image/png": "[encoded data removed]",
      "text/plain": [
       "<Figure size 432x288 with 1 Axes>"
      ]
     },
     "metadata": {
      "needs_background": "light"
     },
     "output_type": "display_data"
    }
   ],
   "source": [
    "plt.plot(K , distortion , 'bx-')\n"
   ]
  },
  {
   "cell_type": "code",
   "execution_count": 60,
   "metadata": {},
   "outputs": [
    {
     "data": {
      "text/plain": [
       "[<matplotlib.lines.Line2D at 0x21c026a1f88>]"
      ]
     },
     "execution_count": 60,
     "metadata": {},
     "output_type": "execute_result"
    },
    {
     "data": {
      "image/png": "[encoded data removed]",
      "text/plain": [
       "<Figure size 432x288 with 1 Axes>"
      ]
     },
     "metadata": {
      "needs_background": "light"
     },
     "output_type": "display_data"
    }
   ],
   "source": [
    "plt.plot(K , inertia , 'bx-')"
   ]
  },
  {
   "cell_type": "code",
   "execution_count": 61,
   "metadata": {},
   "outputs": [
    {
     "name": "stdout",
     "output_type": "stream",
     "text": [
      "1 : [132.09107553121166, 86.39949488039737, 70.73079340230977, 53.183922681577684, 50.569000628435745, 45.27876722121791, 42.29898691965191, 37.85472214779177, 31.43776291367751, 132.09107553121166, 86.39949488039737, 71.60982443749434, 53.183922681577684, 49.28936448975662, 45.27876722121791, 41.23626437346694, 37.6096803879245, 32.2487490108162, 132.09107553121166, 86.39949488039737, 71.60982443749434, 53.183922681577684, 50.17465837803939, 45.27876722121791, 42.29898691965191, 37.6096803879245, 32.071509387258715, 1.3209107553121167, 0.8639949488039737, 0.7251199757798047, 0.5318392268157769, 0.4989503071173047, 0.4466500099155011, 0.4277110286930159, 0.376096803879245, 0.32248749010816197, 1.3209107553121167, 0.8639949488039737, 0.7073079340230977, 0.5318392268157769, 0.4989503071173047, 0.45278767221217914, 0.3951905645444896, 0.3728386761577639, 0.31237812468865533, 1.3209107553121167, 0.8639949488039737, 0.7073079340230977, 0.5318392268157769, 0.5017465837803939, 0.45278767221217914, 0.4229898691965191, 0.3818585088843916, 0.3210420384730896]\n",
      "2 : [132.09107553121166, 86.39949488039737, 70.73079340230977, 53.183922681577684, 50.569000628435745, 45.27876722121791, 42.29898691965191, 37.85472214779177, 31.43776291367751, 132.09107553121166, 86.39949488039737, 71.60982443749434, 53.183922681577684, 49.28936448975662, 45.27876722121791, 41.23626437346694, 37.6096803879245, 32.2487490108162, 132.09107553121166, 86.39949488039737, 71.60982443749434, 53.183922681577684, 50.17465837803939, 45.27876722121791, 42.29898691965191, 37.6096803879245, 32.071509387258715, 1.3209107553121167, 0.8639949488039737, 0.7251199757798047, 0.5318392268157769, 0.4989503071173047, 0.4466500099155011, 0.4277110286930159, 0.376096803879245, 0.32248749010816197, 1.3209107553121167, 0.8639949488039737, 0.7073079340230977, 0.5318392268157769, 0.4989503071173047, 0.45278767221217914, 0.3951905645444896, 0.3728386761577639, 0.31237812468865533, 1.3209107553121167, 0.8639949488039737, 0.7073079340230977, 0.5318392268157769, 0.5017465837803939, 0.45278767221217914, 0.4229898691965191, 0.3818585088843916, 0.3210420384730896]\n",
      "3 : [132.09107553121166, 86.39949488039737, 70.73079340230977, 53.183922681577684, 50.569000628435745, 45.27876722121791, 42.29898691965191, 37.85472214779177, 31.43776291367751, 132.09107553121166, 86.39949488039737, 71.60982443749434, 53.183922681577684, 49.28936448975662, 45.27876722121791, 41.23626437346694, 37.6096803879245, 32.2487490108162, 132.09107553121166, 86.39949488039737, 71.60982443749434, 53.183922681577684, 50.17465837803939, 45.27876722121791, 42.29898691965191, 37.6096803879245, 32.071509387258715, 1.3209107553121167, 0.8639949488039737, 0.7251199757798047, 0.5318392268157769, 0.4989503071173047, 0.4466500099155011, 0.4277110286930159, 0.376096803879245, 0.32248749010816197, 1.3209107553121167, 0.8639949488039737, 0.7073079340230977, 0.5318392268157769, 0.4989503071173047, 0.45278767221217914, 0.3951905645444896, 0.3728386761577639, 0.31237812468865533, 1.3209107553121167, 0.8639949488039737, 0.7073079340230977, 0.5318392268157769, 0.5017465837803939, 0.45278767221217914, 0.4229898691965191, 0.3818585088843916, 0.3210420384730896]\n",
      "4 : [132.09107553121166, 86.39949488039737, 70.73079340230977, 53.183922681577684, 50.569000628435745, 45.27876722121791, 42.29898691965191, 37.85472214779177, 31.43776291367751, 132.09107553121166, 86.39949488039737, 71.60982443749434, 53.183922681577684, 49.28936448975662, 45.27876722121791, 41.23626437346694, 37.6096803879245, 32.2487490108162, 132.09107553121166, 86.39949488039737, 71.60982443749434, 53.183922681577684, 50.17465837803939, 45.27876722121791, 42.29898691965191, 37.6096803879245, 32.071509387258715, 1.3209107553121167, 0.8639949488039737, 0.7251199757798047, 0.5318392268157769, 0.4989503071173047, 0.4466500099155011, 0.4277110286930159, 0.376096803879245, 0.32248749010816197, 1.3209107553121167, 0.8639949488039737, 0.7073079340230977, 0.5318392268157769, 0.4989503071173047, 0.45278767221217914, 0.3951905645444896, 0.3728386761577639, 0.31237812468865533, 1.3209107553121167, 0.8639949488039737, 0.7073079340230977, 0.5318392268157769, 0.5017465837803939, 0.45278767221217914, 0.4229898691965191, 0.3818585088843916, 0.3210420384730896]\n",
      "5 : [132.09107553121166, 86.39949488039737, 70.73079340230977, 53.183922681577684, 50.569000628435745, 45.27876722121791, 42.29898691965191, 37.85472214779177, 31.43776291367751, 132.09107553121166, 86.39949488039737, 71.60982443749434, 53.183922681577684, 49.28936448975662, 45.27876722121791, 41.23626437346694, 37.6096803879245, 32.2487490108162, 132.09107553121166, 86.39949488039737, 71.60982443749434, 53.183922681577684, 50.17465837803939, 45.27876722121791, 42.29898691965191, 37.6096803879245, 32.071509387258715, 1.3209107553121167, 0.8639949488039737, 0.7251199757798047, 0.5318392268157769, 0.4989503071173047, 0.4466500099155011, 0.4277110286930159, 0.376096803879245, 0.32248749010816197, 1.3209107553121167, 0.8639949488039737, 0.7073079340230977, 0.5318392268157769, 0.4989503071173047, 0.45278767221217914, 0.3951905645444896, 0.3728386761577639, 0.31237812468865533, 1.3209107553121167, 0.8639949488039737, 0.7073079340230977, 0.5318392268157769, 0.5017465837803939, 0.45278767221217914, 0.4229898691965191, 0.3818585088843916, 0.3210420384730896]\n",
      "6 : [132.09107553121166, 86.39949488039737, 70.73079340230977, 53.183922681577684, 50.569000628435745, 45.27876722121791, 42.29898691965191, 37.85472214779177, 31.43776291367751, 132.09107553121166, 86.39949488039737, 71.60982443749434, 53.183922681577684, 49.28936448975662, 45.27876722121791, 41.23626437346694, 37.6096803879245, 32.2487490108162, 132.09107553121166, 86.39949488039737, 71.60982443749434, 53.183922681577684, 50.17465837803939, 45.27876722121791, 42.29898691965191, 37.6096803879245, 32.071509387258715, 1.3209107553121167, 0.8639949488039737, 0.7251199757798047, 0.5318392268157769, 0.4989503071173047, 0.4466500099155011, 0.4277110286930159, 0.376096803879245, 0.32248749010816197, 1.3209107553121167, 0.8639949488039737, 0.7073079340230977, 0.5318392268157769, 0.4989503071173047, 0.45278767221217914, 0.3951905645444896, 0.3728386761577639, 0.31237812468865533, 1.3209107553121167, 0.8639949488039737, 0.7073079340230977, 0.5318392268157769, 0.5017465837803939, 0.45278767221217914, 0.4229898691965191, 0.3818585088843916, 0.3210420384730896]\n",
      "7 : [132.09107553121166, 86.39949488039737, 70.73079340230977, 53.183922681577684, 50.569000628435745, 45.27876722121791, 42.29898691965191, 37.85472214779177, 31.43776291367751, 132.09107553121166, 86.39949488039737, 71.60982443749434, 53.183922681577684, 49.28936448975662, 45.27876722121791, 41.23626437346694, 37.6096803879245, 32.2487490108162, 132.09107553121166, 86.39949488039737, 71.60982443749434, 53.183922681577684, 50.17465837803939, 45.27876722121791, 42.29898691965191, 37.6096803879245, 32.071509387258715, 1.3209107553121167, 0.8639949488039737, 0.7251199757798047, 0.5318392268157769, 0.4989503071173047, 0.4466500099155011, 0.4277110286930159, 0.376096803879245, 0.32248749010816197, 1.3209107553121167, 0.8639949488039737, 0.7073079340230977, 0.5318392268157769, 0.4989503071173047, 0.45278767221217914, 0.3951905645444896, 0.3728386761577639, 0.31237812468865533, 1.3209107553121167, 0.8639949488039737, 0.7073079340230977, 0.5318392268157769, 0.5017465837803939, 0.45278767221217914, 0.4229898691965191, 0.3818585088843916, 0.3210420384730896]\n",
      "8 : [132.09107553121166, 86.39949488039737, 70.73079340230977, 53.183922681577684, 50.569000628435745, 45.27876722121791, 42.29898691965191, 37.85472214779177, 31.43776291367751, 132.09107553121166, 86.39949488039737, 71.60982443749434, 53.183922681577684, 49.28936448975662, 45.27876722121791, 41.23626437346694, 37.6096803879245, 32.2487490108162, 132.09107553121166, 86.39949488039737, 71.60982443749434, 53.183922681577684, 50.17465837803939, 45.27876722121791, 42.29898691965191, 37.6096803879245, 32.071509387258715, 1.3209107553121167, 0.8639949488039737, 0.7251199757798047, 0.5318392268157769, 0.4989503071173047, 0.4466500099155011, 0.4277110286930159, 0.376096803879245, 0.32248749010816197, 1.3209107553121167, 0.8639949488039737, 0.7073079340230977, 0.5318392268157769, 0.4989503071173047, 0.45278767221217914, 0.3951905645444896, 0.3728386761577639, 0.31237812468865533, 1.3209107553121167, 0.8639949488039737, 0.7073079340230977, 0.5318392268157769, 0.5017465837803939, 0.45278767221217914, 0.4229898691965191, 0.3818585088843916, 0.3210420384730896]\n",
      "9 : [132.09107553121166, 86.39949488039737, 70.73079340230977, 53.183922681577684, 50.569000628435745, 45.27876722121791, 42.29898691965191, 37.85472214779177, 31.43776291367751, 132.09107553121166, 86.39949488039737, 71.60982443749434, 53.183922681577684, 49.28936448975662, 45.27876722121791, 41.23626437346694, 37.6096803879245, 32.2487490108162, 132.09107553121166, 86.39949488039737, 71.60982443749434, 53.183922681577684, 50.17465837803939, 45.27876722121791, 42.29898691965191, 37.6096803879245, 32.071509387258715, 1.3209107553121167, 0.8639949488039737, 0.7251199757798047, 0.5318392268157769, 0.4989503071173047, 0.4466500099155011, 0.4277110286930159, 0.376096803879245, 0.32248749010816197, 1.3209107553121167, 0.8639949488039737, 0.7073079340230977, 0.5318392268157769, 0.4989503071173047, 0.45278767221217914, 0.3951905645444896, 0.3728386761577639, 0.31237812468865533, 1.3209107553121167, 0.8639949488039737, 0.7073079340230977, 0.5318392268157769, 0.5017465837803939, 0.45278767221217914, 0.4229898691965191, 0.3818585088843916, 0.3210420384730896]\n"
     ]
    }
   ],
   "source": [
    "for key,val in mapping1.items():\n",
    " print(str(key)+' : '+str(val))"
   ]
  },
  {
   "cell_type": "code",
   "execution_count": 62,
   "metadata": {},
   "outputs": [],
   "source": [
    "model = KMeans(n_clusters = 4)\n",
    "pred = model.fit_predict(X)"
   ]
  },
  {
   "cell_type": "code",
   "execution_count": 63,
   "metadata": {},
   "outputs": [
    {
     "data": {
      "text/plain": [
       "<matplotlib.collections.PathCollection at 0x21c02568ac8>"
      ]
     },
     "execution_count": 63,
     "metadata": {},
     "output_type": "execute_result"
    },
    {
     "data": {
      "image/png": "[encoded data removed]",
      "text/plain": [
       "<Figure size 432x288 with 1 Axes>"
      ]
     },
     "metadata": {
      "needs_background": "light"
     },
     "output_type": "display_data"
    }
   ],
   "source": [
    "plt.scatter(X[pred == 0, 0] , X[pred == 0 ,1] , s=40 , c = 'lightgreen' , marker  ='o' , edgecolor = 'black', label = 'cluster1')\n",
    "plt.scatter(X[pred == 1, 0] , X[pred == 1 ,1] , s=40 , c = 'orange' , marker  ='o' , edgecolor = 'black', label = 'cluster1')\n",
    "plt.scatter(X[pred == 2, 0] , X[pred == 2 ,1] , s=40 , c = 'blue' , marker  ='o' , edgecolor = 'black', label = 'cluster1')\n",
    "plt.scatter(X[pred == 3, 0] , X[pred == 3 ,1] , s=40 , c = 'black' , marker  ='o' , edgecolor = 'black', label = 'cluster1')\n",
    "plt.scatter(model.cluster_centers_[:,0] , model.cluster_centers_[:,1], s=100 , c='red' , marker = '*' , edgecolor = 'black' , label ='centroids')"
   ]
  }
 ],
 "metadata": {
  "kernelspec": {
   "display_name": "Python 3",
   "language": "python",
   "name": "python3"
  },
  "language_info": {
   "codemirror_mode": {
    "name": "ipython",
    "version": 3
   },
   "file_extension": ".py",
   "mimetype": "text/x-python",
   "name": "python",
   "nbconvert_exporter": "python",
   "pygments_lexer": "ipython3",
   "version": "3.7.4"
  }
 },
 "nbformat": 4,
 "nbformat_minor": 2
}
