{
 "cells": [
  {
   "cell_type": "code",
   "execution_count": 11,
   "metadata": {},
   "outputs": [],
   "source": [
    "import numpy as np"
   ]
  },
  {
   "cell_type": "code",
   "execution_count": 12,
   "metadata": {},
   "outputs": [],
   "source": [
    "X= np.array([[1,0,1,0] , [1,0,1,1], [1,0,0,1]])\n",
    "y = np.array([[1], [1], [0]])"
   ]
  },
  {
   "cell_type": "code",
   "execution_count": 13,
   "metadata": {},
   "outputs": [],
   "source": [
    "def sigmoid(x):\n",
    "    return 1/(1+np.exp(-x))\n",
    "\n",
    "def dsig(x):\n",
    "    return x*(1-x)"
   ]
  },
  {
   "cell_type": "code",
   "execution_count": 19,
   "metadata": {},
   "outputs": [],
   "source": [
    "epochs = 5000\n",
    "lr=0.1\n",
    "inputneurons = X.shape[1]\n",
    "hidneurons = 3\n",
    "outneurons = 1"
   ]
  },
  {
   "cell_type": "code",
   "execution_count": 15,
   "metadata": {},
   "outputs": [],
   "source": [
    "wh= np.random.uniform(size = (inputneurons , hidneurons))\n",
    "bh = np.random.uniform(size = (1, hidneurons))\n",
    "wout = np.random.uniform( size = (hidneurons , outneurons))\n",
    "bout = np.random.uniform(size =(1,outneurons))"
   ]
  },
  {
   "cell_type": "code",
   "execution_count": 31,
   "metadata": {},
   "outputs": [],
   "source": [
    "for i in range(epochs):\n",
    "    \n",
    "    #hidinput1 = np.dot(X,wh)\n",
    "    #hidinput = hidinput1 + bh\n",
    "    hidact = sigmoid((np.dot(X,wh)+bh))\n",
    "    #outinput1 = np.dot(hidact,wout)\n",
    "    #outinput = outinput1 + bout\n",
    "    outact = sigmoid((np.dot(hidact,wout)+bout))"
   ]
  },
  {
   "cell_type": "code",
   "execution_count": 32,
   "metadata": {
    "scrolled": true
   },
   "outputs": [],
   "source": [
    "    E = y -outact\n",
    "    slopeout = dsig(outact)\n",
    "    slopehid = dsig (hidact)\n",
    "    dout = E * slopeout\n",
    "    hiderr = dout.dot(wout.T)\n",
    "    dhid = hiderr * slopehid\n",
    "    wout +=  hidact.T.dot(dout) * lr\n",
    "    bout += np.sum(dout , axis = 0 , keepdims = True) * lr\n",
    "    wh +=  X.T.dot(dhid)*lr\n",
    "    bh += np.sum(dhid , axis = 0 , keepdims = True) * lr"
   ]
  },
  {
   "cell_type": "code",
   "execution_count": 33,
   "metadata": {},
   "outputs": [
    {
     "name": "stdout",
     "output_type": "stream",
     "text": [
      "[[0.88071791]\n",
      " [0.8992354 ]\n",
      " [0.89007416]]\n"
     ]
    }
   ],
   "source": [
    "print(outact)"
   ]
  }
 ],
 "metadata": {
  "kernelspec": {
   "display_name": "Python 3",
   "language": "python",
   "name": "python3"
  },
  "language_info": {
   "codemirror_mode": {
    "name": "ipython",
    "version": 3
   },
   "file_extension": ".py",
   "mimetype": "text/x-python",
   "name": "python",
   "nbconvert_exporter": "python",
   "pygments_lexer": "ipython3",
   "version": "3.7.4"
  }
 },
 "nbformat": 4,
 "nbformat_minor": 2
}
